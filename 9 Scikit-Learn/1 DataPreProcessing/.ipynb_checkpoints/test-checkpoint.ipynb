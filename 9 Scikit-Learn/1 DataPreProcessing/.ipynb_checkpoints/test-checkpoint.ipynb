{
 "cells": [
  {
   "cell_type": "code",
   "execution_count": 1,
   "metadata": {},
   "outputs": [],
   "source": [
    "# import package \n",
    "from sklearn import preprocessing\n",
    "import numpy as np"
   ]
  },
  {
   "cell_type": "code",
   "execution_count": 5,
   "metadata": {},
   "outputs": [
    {
     "name": "stdout",
     "output_type": "stream",
     "text": [
      "[[ 1. -1.  2.]\n",
      " [ 2.  0.  0.]\n",
      " [ 0.  1. -1.]]\n",
      "(3, 3)\n"
     ]
    }
   ],
   "source": [
    "X_origin = np.array([[1., -1., 2.],\n",
    "                     [2., 0., 0.],\n",
    "                     [0., 1., -1.]])\n",
    "print(X_origin)\n",
    "print(X_origin.shape)"
   ]
  },
  {
   "cell_type": "code",
   "execution_count": 6,
   "metadata": {},
   "outputs": [
    {
     "name": "stdout",
     "output_type": "stream",
     "text": [
      "[[2.         0.         4.        ]\n",
      " [4.         2.         1.33333333]\n",
      " [0.         4.         0.        ]]\n"
     ]
    }
   ],
   "source": [
    "min_max_scaler = preprocessing.MinMaxScaler([0, 4])\n",
    "X_train_minmax = min_max_scaler.fit_transform(X_origin)\n",
    "print(X_train_minmax)"
   ]
  },
  {
   "cell_type": "code",
   "execution_count": 10,
   "metadata": {},
   "outputs": [
    {
     "name": "stdout",
     "output_type": "stream",
     "text": [
      "[[2.         0.         4.        ]\n",
      " [4.         2.         1.33333333]\n",
      " [0.         4.         0.        ]]\n"
     ]
    }
   ],
   "source": [
    "X_transform = min_max_scaler.transform(X_origin)\n",
    "print(X_transform)"
   ]
  },
  {
   "cell_type": "code",
   "execution_count": 11,
   "metadata": {},
   "outputs": [
    {
     "name": "stdout",
     "output_type": "stream",
     "text": [
      "[[ 1. -1.  2.]\n",
      " [ 2.  0.  0.]\n",
      " [ 0.  1. -1.]]\n"
     ]
    }
   ],
   "source": [
    "X_trans_origin = min_max_scaler.inverse_transform(X_transform)\n",
    "\n",
    "print(X_trans_origin)"
   ]
  },
  {
   "cell_type": "code",
   "execution_count": 12,
   "metadata": {},
   "outputs": [
    {
     "name": "stdout",
     "output_type": "stream",
     "text": [
      "[0, 4]\n",
      "[ 0. -1. -1.]\n",
      "[2. 1. 2.]\n",
      "[2.         2.         1.33333333]\n"
     ]
    }
   ],
   "source": [
    "print(min_max_scaler.feature_range)\n",
    "print(min_max_scaler.data_min_)\n",
    "print(min_max_scaler.data_max_)\n",
    "print(min_max_scaler.scale_)\n"
   ]
  },
  {
   "cell_type": "code",
   "execution_count": null,
   "metadata": {},
   "outputs": [],
   "source": []
  }
 ],
 "metadata": {
  "kernelspec": {
   "display_name": "Python 3",
   "language": "python",
   "name": "python3"
  },
  "language_info": {
   "codemirror_mode": {
    "name": "ipython",
    "version": 3
   },
   "file_extension": ".py",
   "mimetype": "text/x-python",
   "name": "python",
   "nbconvert_exporter": "python",
   "pygments_lexer": "ipython3",
   "version": "3.5.5"
  }
 },
 "nbformat": 4,
 "nbformat_minor": 1
}
